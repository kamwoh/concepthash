{
 "cells": [
  {
   "cell_type": "code",
   "execution_count": 3,
   "id": "0c08e066-37d2-41b7-8b15-c19de6703da1",
   "metadata": {},
   "outputs": [],
   "source": [
    "import os\n",
    "import json\n",
    "from collections import defaultdict"
   ]
  },
  {
   "cell_type": "code",
   "execution_count": 4,
   "id": "cbe58800-8e26-46bc-b80f-620b1e204d4f",
   "metadata": {},
   "outputs": [],
   "source": [
    "hierarchy = open('nabirds/hierarchy.txt').readlines()\n",
    "fine2coarse = {}\n",
    "coarse2fine = defaultdict(list)\n",
    "\n",
    "for line in hierarchy:\n",
    "    fineid, coarseid = line.strip().split(' ')\n",
    "    fine2coarse[fineid] = coarseid\n",
    "    coarse2fine[coarseid].append(fineid)"
   ]
  },
  {
   "cell_type": "code",
   "execution_count": 5,
   "id": "8efc2dd5-908e-4bd7-94f3-a2ceb9de5b84",
   "metadata": {},
   "outputs": [
    {
     "data": {
      "text/plain": [
       "(1010, 456)"
      ]
     },
     "execution_count": 5,
     "metadata": {},
     "output_type": "execute_result"
    }
   ],
   "source": [
    "len(fine2coarse), len(coarse2fine)"
   ]
  },
  {
   "cell_type": "code",
   "execution_count": 6,
   "id": "b64f5783-9962-4098-8632-fc01a95a319e",
   "metadata": {},
   "outputs": [],
   "source": [
    "classes = open('nabirds/classes.txt').readlines()\n",
    "classid2name = {}\n",
    "\n",
    "for line in classes:\n",
    "    splits = line.strip().split(' ')\n",
    "    classid = splits[0]\n",
    "    classname = ' '.join(splits[1:])\n",
    "    classid2name[classid] = classname"
   ]
  },
  {
   "cell_type": "code",
   "execution_count": 7,
   "id": "272f03b7-e144-42b7-b0bb-d90b1622d546",
   "metadata": {},
   "outputs": [],
   "source": [
    "filenames = open('nabirds/images.txt').readlines()\n",
    "uuid2path = {}\n",
    "\n",
    "for line in filenames:\n",
    "    splits = line.strip().split(' ')\n",
    "    uuid, filename = splits\n",
    "    \n",
    "    path = f'data/nabirds/nabirds/images/{filename}'\n",
    "    uuid2path[uuid] = path"
   ]
  },
  {
   "cell_type": "code",
   "execution_count": 8,
   "id": "c0bcf502-d089-44c3-a932-d40b38fced23",
   "metadata": {},
   "outputs": [],
   "source": [
    "labels = open('nabirds/image_class_labels.txt').readlines()\n",
    "uuid2classid = {}\n",
    "appeared = defaultdict(int)\n",
    "\n",
    "for line in labels:\n",
    "    splits = line.strip().split(' ')\n",
    "    uuid, classid = splits\n",
    "    uuid2classid[uuid] = classid\n",
    "    appeared[classid] += 1\n",
    "classid2index = {k: v for v, k in enumerate(appeared.keys())}  # length = 555"
   ]
  },
  {
   "cell_type": "code",
   "execution_count": 28,
   "id": "53093d41-57d9-4de7-94e3-bacd582b5aec",
   "metadata": {},
   "outputs": [],
   "source": [
    "train_test_split = open('nabirds/train_test_split.txt').readlines()\n",
    "\n",
    "uuid2istrain = {}\n",
    "\n",
    "for line in train_test_split:\n",
    "    splits = line.strip().split(' ')\n",
    "    uuid, is_train = splits\n",
    "    uuid2istrain[uuid] = int(is_train) == 1\n",
    "\n",
    "train_lines = []\n",
    "test_lines = []\n",
    "    \n",
    "for uuid in uuid2path:\n",
    "    path = uuid2path[uuid]\n",
    "    classid = uuid2classid[uuid]\n",
    "    classindex = classid2index[classid]\n",
    "    \n",
    "    if uuid2istrain[uuid]:\n",
    "        train_lines.append(f'{path} {classindex}')\n",
    "    else:\n",
    "        test_lines.append(f'{path} {classindex}')"
   ]
  },
  {
   "cell_type": "code",
   "execution_count": 30,
   "id": "1ba44b9d-f93c-4b11-a587-9d66a444d663",
   "metadata": {},
   "outputs": [
    {
     "data": {
      "text/plain": [
       "(23929, 24633, 48562)"
      ]
     },
     "execution_count": 30,
     "metadata": {},
     "output_type": "execute_result"
    }
   ],
   "source": [
    "len(train_lines), len(test_lines), len(train_lines) + len(test_lines)"
   ]
  },
  {
   "cell_type": "code",
   "execution_count": 31,
   "id": "921cfb3e-f707-4ddf-b6ee-55abe122d3d9",
   "metadata": {},
   "outputs": [],
   "source": [
    "with open('train.txt', 'w+') as f:\n",
    "    for line in train_lines:\n",
    "        f.write(line + '\\n')\n",
    "        \n",
    "with open('test.txt', 'w+') as f:\n",
    "    for line in test_lines:\n",
    "        f.write(line + '\\n')\n",
    "        \n",
    "with open('database.txt', 'w+') as f:\n",
    "    for line in train_lines:\n",
    "        f.write(line + '\\n')"
   ]
  },
  {
   "cell_type": "code",
   "execution_count": 14,
   "id": "af905749-964c-4397-b2da-099f22dd1e44",
   "metadata": {
    "scrolled": true,
    "tags": []
   },
   "outputs": [],
   "source": [
    "with open('class_names.txt', 'w+') as f:\n",
    "    for appeared_classid, classindex in classid2index.items():\n",
    "        # print(appeared_classid, classindex)\n",
    "        classname = classid2name[appeared_classid]\n",
    "        f.write(classname + '\\n')"
   ]
  }
 ],
 "metadata": {
  "kernelspec": {
   "display_name": "Python 3",
   "language": "python",
   "name": "python3"
  },
  "language_info": {
   "codemirror_mode": {
    "name": "ipython",
    "version": 3
   },
   "file_extension": ".py",
   "mimetype": "text/x-python",
   "name": "python",
   "nbconvert_exporter": "python",
   "pygments_lexer": "ipython3",
   "version": "3.8.12"
  }
 },
 "nbformat": 4,
 "nbformat_minor": 5
}
