{
 "cells": [
  {
   "cell_type": "code",
   "execution_count": null,
   "id": "08b3641b-b168-4ab1-afb0-36d904822077",
   "metadata": {},
   "outputs": [],
   "source": [
    "import os\n",
    "import json\n",
    "import numpy as np\n",
    "from PIL import Image\n",
    "import shutil"
   ]
  },
  {
   "cell_type": "code",
   "execution_count": null,
   "id": "95b153f2-6357-42a3-95d8-f03594eabc2f",
   "metadata": {},
   "outputs": [
    {
     "name": "stdout",
     "output_type": "stream",
     "text": [
      "43800 116931\n"
     ]
    }
   ],
   "source": [
    "veg_train_lists = open('veg200_lists/veg_train.txt').readlines()\n",
    "veg_val_lists = open('veg200_lists/veg_val.txt').readlines()\n",
    "veg_test_lists = open('veg200_lists/veg_test.txt').readlines()\n",
    "fru_train_lists = open('fru92_lists/fru_train.txt').readlines()\n",
    "fru_val_lists = open('fru92_lists/fru_val.txt').readlines()\n",
    "fru_test_lists = open('fru92_lists/fru_test.txt').readlines()\n",
    "\n",
    "veg_train_lists = list(map(lambda x: f'data/vegfru/veg200_images/{x}'.strip(), veg_train_lists))\n",
    "veg_val_lists   = list(map(lambda x: f'data/vegfru/veg200_images/{x}'.strip(), veg_val_lists))\n",
    "veg_test_lists  = list(map(lambda x: f'data/vegfru/veg200_images/{x}'.strip(), veg_test_lists))\n",
    "fru_train_lists = list(map(lambda x: f'data/vegfru/fru92_images/{x}'.strip(), fru_train_lists))\n",
    "fru_val_lists   = list(map(lambda x: f'data/vegfru/fru92_images/{x}'.strip(), fru_val_lists))\n",
    "fru_test_lists  = list(map(lambda x: f'data/vegfru/fru92_images/{x}'.strip(), fru_test_lists))\n",
    "\n",
    "veg_trainval_lists = veg_train_lists + veg_val_lists\n",
    "fru_trainval_lists = fru_train_lists + fru_val_lists\n",
    "\n",
    "fru_trainval_np = np.array([line.strip().split(' ') for line in fru_trainval_lists])\n",
    "fru_trainval_np[:, 1] = fru_trainval_np[:, 1].astype(int) + 200\n",
    "fru_trainval_lists = [' '.join(line) for line in fru_trainval_np]\n",
    "\n",
    "fru_test_np = np.array([line.strip().split(' ') for line in fru_test_lists])\n",
    "fru_test_np[:, 1] = fru_test_np[:, 1].astype(int) + 200\n",
    "fru_test_lists = [' '.join(line) for line in fru_test_np]\n",
    "\n",
    "vegfru_trainval_list = veg_trainval_lists + fru_trainval_lists\n",
    "vegfru_test_list = veg_test_lists + fru_test_lists\n",
    "print(len(vegfru_trainval_list), len(vegfru_test_list))"
   ]
  },
  {
   "cell_type": "code",
   "execution_count": null,
   "id": "2a73bf2b-ba3e-4a7f-a9f7-f8148e960139",
   "metadata": {},
   "outputs": [
    {
     "data": {
      "text/plain": [
       "'data/vegfru/veg200_images/Chinese_artichoke/v_14_01_0001.jpg 0'"
      ]
     },
     "execution_count": 3,
     "metadata": {},
     "output_type": "execute_result"
    }
   ],
   "source": [
    "vegfru_trainval_list[0]"
   ]
  },
  {
   "cell_type": "code",
   "execution_count": 48,
   "id": "5840a946-aca4-4c3e-af73-be23e35dd3c1",
   "metadata": {},
   "outputs": [],
   "source": [
    "with open('train.txt', 'w+') as f:\n",
    "    for line in vegfru_trainval_list:\n",
    "        f.write(line + '\\n')\n",
    "        \n",
    "shutil.copy('train.txt', 'database.txt')\n",
    "        \n",
    "with open('test.txt', 'w+') as f:\n",
    "    for line in vegfru_test_list:\n",
    "        f.write(line + '\\n')"
   ]
  },
  {
   "cell_type": "code",
   "execution_count": 9,
   "id": "1f9e8474-9836-4481-9bb2-b3d40500c5b1",
   "metadata": {},
   "outputs": [],
   "source": [
    "class_names = {}\n",
    "\n",
    "for line in vegfru_trainval_list:\n",
    "    path, clsid =  line.split(' ')\n",
    "    clsname = path.split('/')[-2]\n",
    "    class_names[int(clsid)] = ' '.join(clsname.split('_')).lower()\n",
    "    \n",
    "with open('class_names.txt', 'w+') as f:\n",
    "    for i in range(292):\n",
    "        f.write(class_names[i] + '\\n')"
   ]
  }
 ],
 "metadata": {
  "kernelspec": {
   "display_name": "Python 3",
   "language": "python",
   "name": "python3"
  },
  "language_info": {
   "codemirror_mode": {
    "name": "ipython",
    "version": 3
   },
   "file_extension": ".py",
   "mimetype": "text/x-python",
   "name": "python",
   "nbconvert_exporter": "python",
   "pygments_lexer": "ipython3",
   "version": "3.8.12"
  }
 },
 "nbformat": 4,
 "nbformat_minor": 5
}
