{
 "cells": [
  {
   "cell_type": "code",
   "execution_count": 1,
   "id": "f77d171b-0438-442d-9e3f-d3e158b930ad",
   "metadata": {},
   "outputs": [],
   "source": [
    "import json\n",
    "import os"
   ]
  },
  {
   "cell_type": "code",
   "execution_count": 13,
   "id": "71f7bfd0-c6ef-4856-8868-77d67e623dd2",
   "metadata": {},
   "outputs": [
    {
     "name": "stdout",
     "output_type": "stream",
     "text": [
      "processing train\n",
      "processing train 69 oysters_roll_sandwichch\n",
      "train # 75750\n",
      "processing test\n",
      "processing train 69 oysters_roll_sandwichch\n",
      "test # 25250\n"
     ]
    }
   ],
   "source": [
    "train_json = json.load(open('food-101/meta/train.json'))\n",
    "test_json = json.load(open('food-101/meta/test.json'))\n",
    "\n",
    "index2class = {i: line.strip() for i, line in enumerate(open('food-101/meta/classes.txt').readlines())}\n",
    "class2index = {l: i for i, l in index2class.items()}\n",
    "\n",
    "train_list = []\n",
    "test_list = []\n",
    "\n",
    "train_count = 0\n",
    "test_count = 0\n",
    "\n",
    "print('processing train')\n",
    "for cls_name in train_json:\n",
    "    index = class2index[cls_name]\n",
    "    print('processing train', index, cls_name, end='\\r')\n",
    "    for filename in train_json[cls_name]:\n",
    "        path = f'data/food101/food-101/images/{filename}.jpg'\n",
    "        line = f'{path} {index}'\n",
    "        if os.path.exists(path[len('data/food101/'):]):\n",
    "            train_list.append(line)\n",
    "            train_count += 1\n",
    "        else:\n",
    "            print(path[len('data/food101/'):])\n",
    "            raise Exception('not found')\n",
    "print()\n",
    "print('train #', train_count)\n",
    "print('processing test')\n",
    "for cls_name in test_json:\n",
    "    index = class2index[cls_name]\n",
    "    print('processing train', index, cls_name, end='\\r')\n",
    "    for filename in test_json[cls_name]:\n",
    "        path = f'data/food101/food-101/images/{filename}.jpg'\n",
    "        index = class2index[cls_name]\n",
    "        line = f'{path} {index}'\n",
    "        if os.path.exists(path[len('data/food101/'):]):\n",
    "            test_list.append(line)\n",
    "            test_count += 1\n",
    "        else:\n",
    "            print(path[len('data/food101/'):])\n",
    "            raise Exception('not found')\n",
    "print()            \n",
    "print('test #', test_count)"
   ]
  },
  {
   "cell_type": "code",
   "execution_count": 15,
   "id": "73461313-21b8-42c1-85f4-a77b6a62e632",
   "metadata": {},
   "outputs": [],
   "source": [
    "with open('train.txt', 'w+') as f:\n",
    "    for line in train_list:\n",
    "        f.write(line + '\\n')\n",
    "        \n",
    "with open('test.txt', 'w+') as f:\n",
    "    for line in test_list:\n",
    "        f.write(line + '\\n')\n",
    "        \n",
    "with open('database.txt', 'w+') as f:\n",
    "    for line in train_list:\n",
    "        f.write(line + '\\n')"
   ]
  },
  {
   "cell_type": "code",
   "execution_count": 3,
   "id": "4a917e93-19be-4d9b-a188-17014e40f663",
   "metadata": {},
   "outputs": [],
   "source": [
    "class_names = open('food-101/meta/classes.txt').readlines()\n",
    "class_names = [n.strip().lower() for n in class_names]\n",
    "class_names = [' '.join(n.split('_')) for n in class_names]\n",
    "with open('class_names.txt', 'w+') as f:\n",
    "    for name in class_names:\n",
    "        f.write(name + '\\n')"
   ]
  }
 ],
 "metadata": {
  "kernelspec": {
   "display_name": "Python 3",
   "language": "python",
   "name": "python3"
  },
  "language_info": {
   "codemirror_mode": {
    "name": "ipython",
    "version": 3
   },
   "file_extension": ".py",
   "mimetype": "text/x-python",
   "name": "python",
   "nbconvert_exporter": "python",
   "pygments_lexer": "ipython3",
   "version": "3.8.12"
  }
 },
 "nbformat": 4,
 "nbformat_minor": 5
}
