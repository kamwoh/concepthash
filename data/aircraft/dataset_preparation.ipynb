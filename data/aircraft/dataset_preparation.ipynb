{
 "cells": [
  {
   "cell_type": "code",
   "execution_count": 17,
   "id": "a559b3b1-bf7f-4a20-b03a-d2ae143d2044",
   "metadata": {},
   "outputs": [],
   "source": [
    "import os\n",
    "import json\n",
    "from PIL import Image\n",
    "import shutil"
   ]
  },
  {
   "cell_type": "code",
   "execution_count": 22,
   "id": "276886b1-38eb-4091-a5d5-d3aa0f6981f2",
   "metadata": {},
   "outputs": [],
   "source": [
    "img_lists = sorted(os.listdir('fgvc-aircraft-2013b/data/images'))\n",
    "img_paths = list(map(lambda x: f'data/aircraft/fgvc-aircraft-2013b/data/images/{x}', img_lists))"
   ]
  },
  {
   "cell_type": "code",
   "execution_count": 23,
   "id": "e365abef-cc89-4915-90fe-29976d6b410c",
   "metadata": {},
   "outputs": [],
   "source": [
    "id2path = {path.split('/')[-1].split('.')[0]: path for path in img_paths}"
   ]
  },
  {
   "cell_type": "code",
   "execution_count": 24,
   "id": "77743d3a-d88e-41c8-a177-5729baaea5f8",
   "metadata": {},
   "outputs": [
    {
     "name": "stdout",
     "output_type": "stream",
     "text": [
      "train 6667 test 3333\n"
     ]
    }
   ],
   "source": [
    "classes = open('fgvc-aircraft-2013b/data/variants.txt').readlines()\n",
    "c2i = {c.strip(): i for i, c in enumerate(classes)}\n",
    "trainval_lists = open('fgvc-aircraft-2013b/data/images_variant_trainval.txt').readlines()\n",
    "test_lists = open('fgvc-aircraft-2013b/data/images_variant_test.txt').readlines()\n",
    "print('train', len(trainval_lists), 'test', len(test_lists))\n",
    "\n",
    "with open('train.txt', 'w+') as f:\n",
    "    for line in trainval_lists:\n",
    "        line = line.strip()\n",
    "        infos = line.split(' ')\n",
    "        img_id = infos[0]\n",
    "        img_class = ' '.join(infos[1:])\n",
    "        \n",
    "        path = id2path[img_id]\n",
    "        class_id = c2i[img_class]\n",
    "        \n",
    "        f.write(f'{path} {class_id}\\n')\n",
    "        \n",
    "shutil.copy('train.txt', 'database.txt')\n",
    "        \n",
    "with open('test.txt', 'w+') as f:\n",
    "    for line in test_lists:\n",
    "        line = line.strip()\n",
    "        infos = line.split(' ')\n",
    "        img_id = infos[0]\n",
    "        img_class = ' '.join(infos[1:])\n",
    "        \n",
    "        path = id2path[img_id]\n",
    "        class_id = c2i[img_class]\n",
    "        \n",
    "        f.write(f'{path} {class_id}\\n')"
   ]
  }
 ],
 "metadata": {
  "kernelspec": {
   "display_name": "Python 3",
   "language": "python",
   "name": "python3"
  },
  "language_info": {
   "codemirror_mode": {
    "name": "ipython",
    "version": 3
   },
   "file_extension": ".py",
   "mimetype": "text/x-python",
   "name": "python",
   "nbconvert_exporter": "python",
   "pygments_lexer": "ipython3",
   "version": "3.8.12"
  }
 },
 "nbformat": 4,
 "nbformat_minor": 5
}
